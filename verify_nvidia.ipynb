{
 "cells": [
  {
   "cell_type": "markdown",
   "metadata": {},
   "source": [
    "GPU 서버에 옮겨서 돌리면 될듯"
   ]
  },
  {
   "cell_type": "code",
   "execution_count": 1,
   "metadata": {},
   "outputs": [],
   "source": [
    "import torch\n",
    "import torch.nn as nn\n",
    "import torch.optim as optim\n",
    "import numpy as np\n",
    "import os\n",
    "from SAM import SAM\n",
    "from tqdm import tqdm\n",
    "\n",
    "\n",
    "LR = 0.01\n",
    "RHO=0.1\n",
    "WEIGHT_DECAY = 0.0\n",
    "MOMENTUM = 0.9\n",
    "IS_LAZY = True\n",
    "\n",
    "SEED = 0\n",
    "\n",
    "if IS_LAZY:\n",
    "    os.environ['PT_HPU_LAZY_MODE'] = '1'\n",
    "else:\n",
    "    os.environ['PT_HPU_LAZY_MODE'] = '0'\n"
   ]
  },
  {
   "cell_type": "code",
   "execution_count": 2,
   "metadata": {},
   "outputs": [
    {
     "name": "stderr",
     "output_type": "stream",
     "text": [
      "100%|██████████| 50000/50000 [02:15<00:00, 368.62it/s, loss=1.11e-6] \n"
     ]
    }
   ],
   "source": [
    "torch.manual_seed(SEED)          # CPU 시드 고정\n",
    "torch.cuda.manual_seed(SEED)     # 현재 GPU의 시드 고정\n",
    "torch.cuda.manual_seed_all(SEED) # 모든 GPU의 시드 고정\n",
    "np.random.seed(SEED)\n",
    "device = torch.device(\"cuda:7\")\n",
    "\n",
    "class MinimalModel(nn.Module):\n",
    "    linear1: nn.Module\n",
    "    linear2: nn.Module\n",
    "\n",
    "    def __init__(self):\n",
    "        super(MinimalModel, self).__init__()\n",
    "        self.linear1: nn.Module = nn.Linear(in_features=2, out_features=1, bias=False)\n",
    "        self.linear2: nn.Module = nn.Linear(in_features=1, out_features=1, bias=False)\n",
    "        self.activation = nn.Tanh()\n",
    "    \n",
    "    def forward(self, x):\n",
    "        out1 = self.linear1(x)\n",
    "        out1 = self.activation(out1)\n",
    "        out2 = self.linear2(out1)\n",
    "        out2 = out2.flatten()\n",
    "        return out2\n",
    "    \n",
    "\n",
    "model = MinimalModel().to(device)\n",
    "if not IS_LAZY:\n",
    "    model = torch.compile(model)\n",
    "\n",
    "loss_func = nn.MSELoss()\n",
    "\n",
    "X = np.array([[1.05, 0.95], [0.95, 1.05]])\n",
    "y = np.array([1.0, -1.0])\n",
    "epoch_nums = 50000\n",
    "\n",
    "X = torch.tensor(X).to(device, dtype=torch.float32)\n",
    "y = torch.tensor(y).to(device, dtype=torch.float32)\n",
    "\n",
    "optimizer = SAM(model.parameters(), optim.SGD, lr=LR, rho=RHO, \n",
    "                weight_decay=WEIGHT_DECAY, momentum=MOMENTUM)\n",
    "\n",
    "loss_list = []\n",
    "state_dict_list = []\n",
    "pbar = tqdm(range(epoch_nums))\n",
    "\n",
    "# Full batch SAM\n",
    "for epoch in pbar:\n",
    "    optimizer.zero_grad()\n",
    "    out = model(X)\n",
    "    loss = loss_func(out, y)\n",
    "    loss_list.append(loss.item())\n",
    "    pbar.set_postfix({'loss': loss.item()})\n",
    "    detached_state_dict = {}\n",
    "    for name, param in model.state_dict().items():\n",
    "        detached_state_dict[name] = param.detach().cpu().numpy()\n",
    "    state_dict_list.append(detached_state_dict)\n",
    "    loss.backward()\n",
    "    #htcore.mark_step()\n",
    "    optimizer.first_step(zero_grad=True)\n",
    "    #htcore.mark_step()\n",
    "    out2 = model(X)\n",
    "    second_loss = loss_func(out2, y)\n",
    "    second_loss.backward()\n",
    "    #htcore.mark_step()\n",
    "    optimizer.second_step(zero_grad=True)\n",
    "    #htcore.mark_step()\n",
    "\n",
    "import pickle as pkl\n",
    "to_save = [loss_list, state_dict_list]\n",
    "if IS_LAZY:\n",
    "    with open(\"verify_lazy_nvidia.pkl\", 'wb') as f:\n",
    "        pkl.dump(to_save, f, protocol=pkl.HIGHEST_PROTOCOL)\n",
    "else:\n",
    "    with open(\"verify_eager_nvidia.pkl\", 'wb') as f:\n",
    "        pkl.dump(to_save, f, protocol=pkl.HIGHEST_PROTOCOL)"
   ]
  },
  {
   "cell_type": "code",
   "execution_count": 4,
   "metadata": {},
   "outputs": [
    {
     "data": {
      "text/plain": [
       "tensor([ 1., -1.], device='cuda:7', dtype=torch.float64)"
      ]
     },
     "execution_count": 4,
     "metadata": {},
     "output_type": "execute_result"
    }
   ],
   "source": [
    "y"
   ]
  },
  {
   "cell_type": "code",
   "execution_count": 2,
   "metadata": {},
   "outputs": [],
   "source": [
    "import pickle as pkl\n",
    "\n",
    "data_eager = pkl.load(open(\"verify_eager.pkl\", 'rb'))\n",
    "data_lazy = pkl.load(open(\"verify_lazy.pkl\", 'rb'))\n",
    "nvidia_eager = pkl.load(open(\"verify_eager_nvidia.pkl\", 'rb'))\n",
    "nvidia_lazy = pkl.load(open(\"verify_lazy_nvidia.pkl\", 'rb'))"
   ]
  },
  {
   "cell_type": "code",
   "execution_count": 21,
   "metadata": {},
   "outputs": [
    {
     "data": {
      "text/plain": [
       "[]"
      ]
     },
     "execution_count": 21,
     "metadata": {},
     "output_type": "execute_result"
    },
    {
     "data": {
      "image/png": "[encoded data removed]",
      "text/plain": [
       "<Figure size 640x480 with 1 Axes>"
      ]
     },
     "metadata": {},
     "output_type": "display_data"
    }
   ],
   "source": [
    "import matplotlib.pyplot as plt\n",
    "import numpy as np\n",
    "time_step = np.arange(13000, 18000)\n",
    "\n",
    "plt.plot(time_step, np.array(nvidia_eager[0])[time_step], label='nvidia eager')\n",
    "plt.plot(time_step, np.array(nvidia_lazy[0])[time_step], label='nvidia lazy')\n",
    "plt.plot(time_step, np.array(data_eager[0])[time_step], label='eager')\n",
    "#plt.plot(time_step, np.array(data_lazy[0])[time_step], label='lazy')\n",
    "plt.legend()\n",
    "plt.yscale('log')\n",
    "plt.plot()"
   ]
  },
  {
   "cell_type": "code",
   "execution_count": 20,
   "metadata": {},
   "outputs": [
    {
     "name": "stdout",
     "output_type": "stream",
     "text": [
      "7.131077950361941e-10\n",
      "6.920863881987316e-11\n",
      "1.3509016127954965e-10\n",
      "1.3509016127954965e-10\n"
     ]
    }
   ],
   "source": [
    "print(min(data_eager[0]))\n",
    "print(min(data_lazy[0]))\n",
    "print(min(nvidia_eager[0]))\n",
    "print(min(nvidia_lazy[0]))\n"
   ]
  },
  {
   "cell_type": "code",
   "execution_count": 21,
   "metadata": {},
   "outputs": [
    {
     "data": {
      "text/plain": [
       "array([3.85493376e-01, 4.83340210e+00, 3.45869658e-01, 3.35918125e+00,\n",
       "       5.99798969e-01, 9.37779659e-01, 2.61955645e+00, 3.22633277e-01,\n",
       "       5.79039033e+01, 1.15897366e-01, 1.01129601e+00, 4.84232795e-02,\n",
       "       8.11957356e-02, 5.91891353e-01, 3.69462902e-02, 2.55560854e-02,\n",
       "       1.57984094e-02, 9.87660679e+01, 3.25781478e-03, 1.70455229e-02,\n",
       "       2.54035617e-03, 2.83490942e-02, 1.13061313e+01, 2.32980568e-02,\n",
       "       2.75327718e-01, 1.97476124e-02, 1.57364311e+01, 1.77988671e+00,\n",
       "       1.78397494e-01, 3.26085448e-01, 3.60809434e-01, 8.31429790e-01,\n",
       "       1.32991726e+02, 9.66142984e-01, 7.87858953e-03, 5.35809913e+01,\n",
       "       2.18136705e+01, 5.09963854e-01, 1.29146388e+00, 1.87545734e-01,\n",
       "       1.94696954e-02, 1.01366057e+01, 2.55392834e+01, 6.65240943e-02,\n",
       "       9.50214123e-02, 3.02428221e+01, 1.08434307e+00, 7.13790593e+00,\n",
       "       3.39168784e+01, 6.18041313e-02, 2.86136605e+01, 3.54388196e+00,\n",
       "       1.12288886e+00, 4.14131700e-01, 5.21448624e-01, 9.26148125e-02,\n",
       "       5.61698836e-01, 3.58184223e+00, 4.31392535e-02, 1.00911515e+01,\n",
       "       3.25201063e+00, 8.84699705e-01, 3.58820913e-01, 4.69080730e-01,\n",
       "       1.84127069e-02, 1.26237043e+00, 2.47968983e+01, 2.27934383e+00,\n",
       "       2.42353374e+01, 2.03887790e+00, 5.20478815e-01, 2.54663314e+00,\n",
       "       4.12101880e+00, 2.48375184e+02, 1.49067274e+00, 4.26179655e-01,\n",
       "       6.56498141e-02, 5.71567479e-01, 4.51159554e-03, 4.63257821e+01,\n",
       "       8.23753611e+01, 1.89317353e-01, 6.00224589e-01, 5.29351708e-01,\n",
       "       2.79737695e-01, 1.39223870e+00, 8.15337780e-02, 1.36871533e-01,\n",
       "       2.99769174e-01, 5.68071727e-01, 9.73986821e-02, 2.02574601e+00,\n",
       "       6.52166008e-01, 6.14694622e-02, 3.64814082e-01, 4.14812079e-01,\n",
       "       2.13276639e-01, 4.97633477e-03, 8.01060683e+00, 1.74653707e-01,\n",
       "       2.60190644e-02, 8.50482635e-01, 6.38392543e+00, 1.27157445e-01,\n",
       "       1.50879286e+01, 3.12693343e+00, 8.90170958e-01, 7.91557600e-02,\n",
       "       6.21857640e-01, 4.14907096e-03, 2.98015068e+00, 2.73068774e+00,\n",
       "       1.47829459e-01, 6.64760855e+00, 3.45025814e+00, 1.08537374e+00,\n",
       "       5.20749123e-02, 9.47201173e+00, 7.99823322e+00, 4.79762281e+01,\n",
       "       1.83990183e+00, 1.06140510e-01, 2.25357410e+00, 4.62169707e+00,\n",
       "       4.06244429e-02, 2.00241660e+01, 4.31782247e+00, 1.71929942e+00,\n",
       "       6.02441067e-01, 5.52293544e+00, 5.51281097e+00, 3.08106465e+01,\n",
       "       1.05573052e+00, 3.03882726e-01, 3.40400610e+00, 4.61705971e+00,\n",
       "       2.74615015e-02, 1.87375501e+01, 6.22889957e+00, 2.80366213e+00,\n",
       "       2.20629859e+00, 1.36247173e+00, 2.44247799e+00, 1.14285651e+01,\n",
       "       7.28829119e-02, 1.28153085e+00, 7.94891106e+00, 1.32245863e+01,\n",
       "       1.06197857e+00, 6.83233592e+00, 2.81616307e+00, 1.24643755e+00,\n",
       "       3.80182231e-01, 6.22042753e+00, 5.47468053e+00, 3.61089273e+01,\n",
       "       4.32098659e-01, 6.14424389e-01, 4.46186735e+00, 1.52624695e+01,\n",
       "       7.67199625e-01, 2.41746447e+01, 2.64233894e+00, 1.19455708e+00,\n",
       "       3.69301731e-01, 1.19687688e+01, 8.19583978e+00, 1.98710277e+02,\n",
       "       3.41160673e-01, 4.35056249e-01, 2.68553185e+00, 7.18102112e+01,\n",
       "       1.31147312e+00, 3.64692380e+02, 2.58061966e+01, 2.43478512e+02,\n",
       "       3.16146443e+00, 1.61572209e+02, 1.86860766e+01, 1.20718790e+03,\n",
       "       3.21900307e-01, 7.85495184e-01, 1.36828824e+01, 2.39394605e+00,\n",
       "       1.46743312e-01, 7.29631317e-01, 7.17838454e+01, 1.16268938e+00,\n",
       "       8.68185933e-02, 2.86826403e-01, 3.96072063e+00, 2.81469277e+00,\n",
       "       1.09839365e-01, 4.27155607e-01, 4.49957053e+00, 5.43365073e+00,\n",
       "       2.73187778e-01, 1.21615998e+00, 4.84351835e+01, 5.10532118e+00,\n",
       "       1.44197278e+00, 4.53731124e+00, 9.17304900e+00, 6.45240148e+01,\n",
       "       1.65404998e+00, 1.58150378e+01, 5.21730507e+00, 3.69204714e+00,\n",
       "       5.21299241e+01, 1.24528926e+00, 2.90960995e+00, 3.39320319e+01,\n",
       "       2.60730304e-01, 3.35653210e-01, 1.33727069e+00, 1.14486912e+01,\n",
       "       2.24408844e-01, 3.00242686e-01, 1.03708511e+00, 5.01935330e+00,\n",
       "       3.47410058e-01, 3.26782270e-01, 9.93307262e-01, 3.04964941e+00,\n",
       "       8.27294891e-01, 7.45105438e-01, 3.59267055e+00, 4.76603799e+01,\n",
       "       8.01086439e-01, 4.49457586e+00, 1.33341435e+01, 8.07739312e+00,\n",
       "       7.33589540e+00, 6.82187276e+00, 9.91198581e+01, 6.29443547e+00,\n",
       "       1.35576680e+00, 7.78845134e+00, 2.46520815e+01, 1.01691915e+01,\n",
       "       1.87655105e+00, 7.11077267e+00, 3.15893229e+01, 7.41415435e+00,\n",
       "       1.14026091e+00, 1.71375082e+01, 4.05927032e+01, 1.49293672e+01,\n",
       "       5.79925211e+00, 2.77999205e+00, 8.30494752e+00, 4.25548832e+01,\n",
       "       3.53453662e+00, 9.39375408e+00, 7.23273867e+01, 6.59864232e+00,\n",
       "       1.22737492e+00, 1.25643499e+01, 3.59597287e+01, 9.88406881e+00,\n",
       "       1.99501309e+00, 6.47712057e+00, 2.23160391e+01, 1.11603171e+01,\n",
       "       1.83430773e+00, 9.41777196e+00, 4.69603142e+01, 6.19806781e+00,\n",
       "       8.65025931e-01, 7.33818079e+01, 3.84636161e+02, 5.64135055e+00,\n",
       "       1.50208795e+00, 4.73111193e+00, 1.06110387e+01, 3.91156444e+01,\n",
       "       2.29806684e+01, 1.67635237e+00, 4.31091783e+00, 3.93249306e+02,\n",
       "       2.50882722e-01, 4.34497790e-01, 2.85481522e+00, 2.35910276e+01,\n",
       "       6.09473195e-01, 6.64203801e+00, 7.02900038e+00, 3.86532800e+00,\n",
       "       1.27167948e+01, 8.86516258e-01, 1.44981664e+00, 2.69308658e+00,\n",
       "       4.05503314e+00, 3.06802670e+00, 2.03865133e+02, 2.18233162e+00,\n",
       "       2.13857382e-01, 1.61599636e+00, 1.30723971e+01, 3.34973361e+00,\n",
       "       2.32081581e+00, 1.70281262e+00, 2.51850675e+00, 7.46148284e+00,\n",
       "       8.43089055e-01, 9.85882423e-01, 9.80606920e+00, 5.17670041e+00,\n",
       "       3.41814915e-01, 4.98441670e+00, 5.36743953e+00, 2.13004592e+00,\n",
       "       1.15428120e+00, 2.42225323e+00, 3.01616669e+00, 9.68035502e+00,\n",
       "       6.14801020e-01, 1.04884643e+00, 1.08573619e+01, 4.95049914e+00,\n",
       "       3.59518641e-01, 3.24810915e+00, 6.75196541e+00, 2.50201649e+00,\n",
       "       1.59530847e+00, 1.82611400e+00, 2.43412440e+00, 6.08508114e+00,\n",
       "       1.18431899e+00, 1.29065942e+00, 1.97467218e+01, 3.15563039e+00,\n",
       "       2.29850615e-01, 2.35447771e+00, 1.11880162e+01, 3.52550108e+00,\n",
       "       3.42864794e+00, 1.27496591e+00, 1.93386596e+00, 4.38293368e+00,\n",
       "       1.28657622e+00, 1.70334888e+00, 2.98646600e+01, 3.03054507e+00,\n",
       "       2.61659859e-01, 1.86118344e+00, 1.20323978e+01, 3.51975277e+00,\n",
       "       3.32452947e+00, 1.35605142e+00, 1.99433374e+00, 4.42158882e+00,\n",
       "       1.79818538e+00, 1.62404854e+00, 3.45309807e+01, 2.56906188e+00,\n",
       "       1.96268902e-01, 1.85757727e+00, 1.65946625e+01, 4.51671196e+00,\n",
       "       6.96599745e+00, 1.00965821e+00, 1.60396947e+00, 3.14017849e+00,\n",
       "       2.50432392e+00, 2.61955711e+00, 1.33820244e+02, 2.08964654e+00,\n",
       "       1.92685447e-01, 1.05309285e+00, 5.99738092e+01, 8.52463432e+00,\n",
       "       2.64188272e+02, 1.88202084e+00, 6.74192281e+00, 4.04300479e+01,\n",
       "       5.30392189e+00, 3.81415594e+00, 1.84780118e+01, 7.76640321e+00,\n",
       "       9.75648642e-01, 2.26827186e+01, 1.85539962e+02, 4.24777629e+00,\n",
       "       6.65432540e-01, 1.91785314e+02, 3.42142382e+00, 2.38381660e+00,\n",
       "       4.72838662e+00, 8.60881460e-01, 1.14567356e+00, 1.49707350e+00,\n",
       "       1.04711447e+01, 4.07549585e-01, 5.12084949e-01, 4.45925559e-01,\n",
       "       1.66555378e-01, 2.20504914e+01, 3.67443952e+00, 4.22238477e+00,\n",
       "       1.60419149e+01, 7.75011974e+00, 6.54700307e+01, 5.35045217e+01,\n",
       "       2.21889327e+00, 5.97843019e+01, 5.80288248e+00, 5.22285493e+00,\n",
       "       1.39840634e+01, 7.16633974e+00, 8.35548902e+01, 1.23360973e+01,\n",
       "       1.04541860e+01, 2.16293131e+00, 6.37357131e+00, 7.79899471e+01,\n",
       "       4.17062273e+00, 1.35601755e+01, 8.62485529e+01, 1.08252604e+01,\n",
       "       4.45101887e+00, 2.62844937e+00, 6.67581628e+00, 1.83289824e+02,\n",
       "       5.50098809e+01, 2.04064832e+00, 7.54294901e+00, 3.47309723e+01,\n",
       "       4.01363908e+00, 5.27181127e+00, 2.45492145e+01, 9.02555922e+00,\n",
       "       1.34741712e+00, 2.29473593e+01, 2.15345590e+02, 4.25001837e+00,\n",
       "       6.20091681e-01, 1.29601548e+02, 5.24890271e+02, 4.88041564e+00,\n",
       "       9.15983671e-01, 4.43352106e+01, 2.82153099e+02, 4.99158257e+00,\n",
       "       8.90324708e-01, 1.68647792e+01, 4.92066373e+01, 8.71106565e+00,\n",
       "       1.84637429e+00, 7.24092469e+00, 2.36818450e+01, 1.09054757e+01,\n",
       "       1.93571532e+00, 6.40667758e+00, 2.06326275e+01, 1.38481128e+01,\n",
       "       2.78151298e+00, 5.26990715e+00, 1.88122317e+01, 1.20461785e+01,\n",
       "       1.97601419e+00, 6.79451410e+00, 2.38044738e+01, 1.15962974e+01,\n",
       "       2.16983926e+00, 7.08132520e+00, 2.75075235e+01, 8.83278038e+00,\n",
       "       1.38413499e+00, 1.04652663e+01, 3.98042415e+01, 8.37233888e+00,\n",
       "       1.53141227e+00, 1.15242992e+01, 4.81498542e+01, 6.68872126e+00,\n",
       "       1.03845447e+00, 1.69143354e+01, 6.86935718e+01, 6.72751697e+00,\n",
       "       1.21763571e+00, 1.88038810e+01, 8.52632329e+01, 5.48560107e+00,\n",
       "       8.20112022e-01, 3.58219900e+01, 1.70877787e+02, 5.19498951e+00,\n",
       "       8.87996750e-01, 8.37297192e+01, 1.32502193e+03, 4.40772779e+00,\n",
       "       7.61015743e-01, 2.99810384e+01, 1.30319434e+02, 5.36796761e+00,\n",
       "       8.90341814e-01, 1.03396872e+02, 5.49480171e+04, 4.63328215e+00])"
      ]
     },
     "execution_count": 21,
     "metadata": {},
     "output_type": "execute_result"
    }
   ],
   "source": [
    "np.array(data_eager[0][17500:18000]) / np.array(data_lazy[0][17500:18000])"
   ]
  },
  {
   "cell_type": "code",
   "execution_count": null,
   "metadata": {},
   "outputs": [],
   "source": []
  }
 ],
 "metadata": {
  "kernelspec": {
   "display_name": "base",
   "language": "python",
   "name": "python3"
  },
  "language_info": {
   "codemirror_mode": {
    "name": "ipython",
    "version": 3
   },
   "file_extension": ".py",
   "mimetype": "text/x-python",
   "name": "python",
   "nbconvert_exporter": "python",
   "pygments_lexer": "ipython3",
   "version": "3.11.4"
  }
 },
 "nbformat": 4,
 "nbformat_minor": 2
}
